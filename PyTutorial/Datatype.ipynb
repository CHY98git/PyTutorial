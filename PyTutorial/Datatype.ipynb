{
 "cells": [
  {
   "cell_type": "code",
   "execution_count": 3,
   "id": "caa5fdbe",
   "metadata": {},
   "outputs": [],
   "source": [
    "#Integer\n",
    "\n",
    "a = 1\n",
    "\n",
    "#float\n",
    "\n",
    "b = -2.4\n",
    "\n",
    "## octal and hexadecimal\n",
    "c_1 = 0o24\n",
    "c_2 = 0x1A"
   ]
  },
  {
   "cell_type": "code",
   "execution_count": 8,
   "id": "4a8e307a",
   "metadata": {},
   "outputs": [
    {
     "name": "stdout",
     "output_type": "stream",
     "text": [
      "4.0\n",
      "3.0\n",
      "(4-3j)\n",
      "5.0\n"
     ]
    }
   ],
   "source": [
    "#Complex number\n",
    "d = 4 + 3j\n",
    "print(d.real)\n",
    "print(d.imag)\n",
    "print(d.conjugate())\n",
    "print(abs(d))"
   ]
  },
  {
   "cell_type": "code",
   "execution_count": 13,
   "id": "9cfb71af",
   "metadata": {},
   "outputs": [
    {
     "name": "stdout",
     "output_type": "stream",
     "text": [
      "9 1 20 1.25 1 625 1\n"
     ]
    }
   ],
   "source": [
    "e = 5\n",
    "f = 4\n",
    "\n",
    "print(e+f, e-f, e*f, e/f, e%f, e**f, e//f)"
   ]
  },
  {
   "cell_type": "code",
   "execution_count": 52,
   "id": "a7a617be",
   "metadata": {},
   "outputs": [
    {
     "name": "stdout",
     "output_type": "stream",
     "text": [
      "Life is too short, You need python\n",
      "' a \"\n",
      "a\n",
      "b\n",
      "A \n",
      "B\n"
     ]
    }
   ],
   "source": [
    "#String\n",
    "str_s =\"Life is too short, You need python\"\n",
    "print(samplestr)\n",
    "print(\"\\' a \\\"\")\n",
    "\n",
    "# 서로 반대편의 따옴표를 문자로 쓸 수 있음, 둘 다 사용하고 싶을시 백슬래시 (\\' \\\") 사용\n",
    "# 겹치지 않는 따옴표는 이스케이핑 불필요\n",
    "\n",
    "print(\"a\\nb\")\n",
    "ml = '''A \n",
    "B'''\n",
    "print(ml)"
   ]
  },
  {
   "cell_type": "code",
   "execution_count": 48,
   "id": "53d5ae2d",
   "metadata": {},
   "outputs": [
    {
     "data": {
      "text/plain": [
       "'ABCDCD'"
      ]
     },
     "execution_count": 48,
     "metadata": {},
     "output_type": "execute_result"
    }
   ],
   "source": [
    "#String Concatenation\n",
    "str_h = \"AB\"\n",
    "str_t = \"CD\"\n",
    "str_h + str_t*2"
   ]
  },
  {
   "cell_type": "code",
   "execution_count": 61,
   "id": "dfa1451d",
   "metadata": {},
   "outputs": [
    {
     "name": "stdout",
     "output_type": "stream",
     "text": [
      "Lif\n",
      "Lif\n",
      "You need python\n",
      "You need python\n",
      "Life is too short,\n"
     ]
    }
   ],
   "source": [
    "#String Indexing\n",
    "print(str_s[0:3]) # 0번 원소부터, 3번 원소 앞까지\n",
    "print(str_s[0:-31]) # 0번 원소부터, 총 34개 원소 중 뒤에서 31개째인 e 앞까지\n",
    "print(str_s[19:])\n",
    "print(str_s[-15:]) # 같은 뜻\n",
    "print(str_s[:18])"
   ]
  },
  {
   "cell_type": "code",
   "execution_count": 72,
   "id": "3e0c7a97",
   "metadata": {},
   "outputs": [
    {
     "name": "stdout",
     "output_type": "stream",
     "text": [
      "I eat 5 apples\n",
      "I eat five apples\n",
      "I eat 4 apples\n",
      "I eat 4 apples and 5 bananas ,4%\n",
      "a\n",
      "3.14\n"
     ]
    }
   ],
   "source": [
    "#Formatting\n",
    "print(\"I eat %d apples\" % 5)\n",
    "print(\"I eat %s apples\" % \"five\")\n",
    "print(\"I eat %d apples\" % f)\n",
    "print(\"I eat %d apples and %d bananas ,%d%%\" % (f,e,f))\n",
    "print(\"%1s\" %\"a\")\n",
    "pi = 3.141592\n",
    "print(\"%0.2f\" % pi)"
   ]
  },
  {
   "cell_type": "code",
   "execution_count": 73,
   "id": "a760d307",
   "metadata": {},
   "outputs": [
    {
     "data": {
      "text/plain": [
       "5"
      ]
     },
     "execution_count": 73,
     "metadata": {},
     "output_type": "execute_result"
    }
   ],
   "source": [
    "str_s.count('o')"
   ]
  }
 ],
 "metadata": {
  "kernelspec": {
   "display_name": "Python 3 (ipykernel)",
   "language": "python",
   "name": "python3"
  },
  "language_info": {
   "codemirror_mode": {
    "name": "ipython",
    "version": 3
   },
   "file_extension": ".py",
   "mimetype": "text/x-python",
   "name": "python",
   "nbconvert_exporter": "python",
   "pygments_lexer": "ipython3",
   "version": "3.9.12"
  }
 },
 "nbformat": 4,
 "nbformat_minor": 5
}
